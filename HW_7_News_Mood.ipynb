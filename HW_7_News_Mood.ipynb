{
 "cells": [
  {
   "cell_type": "markdown",
   "metadata": {},
   "source": [
    "# News Mood - _Analysing the News Twitter Sentiment_"
   ]
  },
  {
   "cell_type": "markdown",
   "metadata": {},
   "source": [
    "#### Loading the dependencies & Setting Authentication"
   ]
  },
  {
   "cell_type": "code",
   "execution_count": 1,
   "metadata": {},
   "outputs": [],
   "source": [
    "# Dependencies\n",
    "import json\n",
    "import tweepy \n",
    "import matplotlib.pyplot as plt\n",
    "import pandas as pd\n",
    "from datetime import datetime,date\n",
    "import numpy as np\n",
    "from vaderSentiment.vaderSentiment import SentimentIntensityAnalyzer\n",
    "analyzer = SentimentIntensityAnalyzer()"
   ]
  },
  {
   "cell_type": "code",
   "execution_count": 2,
   "metadata": {},
   "outputs": [],
   "source": [
    "# Import Twitter API Keys\n",
    "from config import consumer_key, consumer_secret, access_token, access_token_secret"
   ]
  },
  {
   "cell_type": "code",
   "execution_count": 3,
   "metadata": {},
   "outputs": [],
   "source": [
    "# Setup Tweepy API Authentication\n",
    "auth = tweepy.OAuthHandler(consumer_key, consumer_secret)\n",
    "auth.set_access_token(access_token, access_token_secret)\n",
    "api = tweepy.API(auth, parser=tweepy.parsers.JSONParser())"
   ]
  },
  {
   "cell_type": "markdown",
   "metadata": {},
   "source": [
    "#### Variable Declaration"
   ]
  },
  {
   "cell_type": "code",
   "execution_count": 4,
   "metadata": {},
   "outputs": [],
   "source": [
    "# Variable for max_id\n",
    "oldest_tweet = None\n",
    "\n",
    "# Counter\n",
    "counter = 1\n",
    "\n",
    "#Todays date\n",
    "today = str(date.today())\n",
    "\n",
    "#Average Polarity Scores\n",
    "polarityAvgCalculator = []\n",
    "polorityAvg = []"
   ]
  },
  {
   "cell_type": "code",
   "execution_count": 5,
   "metadata": {},
   "outputs": [],
   "source": [
    "#Storing the twitter ID list\n",
    "twitterIDList = [\"@BBCWorld\", \"@CBSNews\", \"@CNN\", \"@FoxNews\", \"@nytimes\" ]"
   ]
  },
  {
   "cell_type": "markdown",
   "metadata": {},
   "source": [
    "#### Looping & Iteration for dataframe creation"
   ]
  },
  {
   "cell_type": "code",
   "execution_count": 6,
   "metadata": {},
   "outputs": [],
   "source": [
    "# Get all tweets from home feed\n",
    "tweetList = []\n",
    "\n",
    "#Iterate the list of News Channel ID\n",
    "for id in twitterIDList:\n",
    "    counter = 1 # Set the counter to 1 for each News ID\n",
    "    for x in range(1,6): #The range is used to grab the latest 100 tweets\n",
    "        public_tweets = api.user_timeline(id, max_id = oldest_tweet)#API Call, to pull in the latest 20 tweets\n",
    "        for tweet in public_tweets:#Loop in the 20 tweets and get set for storing it in a dictionary\n",
    "            tweet_datetime = datetime.strptime(tweet[\"created_at\"], \"%a %b %d %H:%M:%S %z %Y\")\n",
    "            results = analyzer.polarity_scores(tweet[\"text\"])\n",
    "            #Add the necessarty values from the API response into a dictionary\n",
    "            tweetList.append({\"News Channel\": id,\n",
    "                              \"News Time\" : tweet_datetime,\n",
    "                              \"News text\": tweet[\"text\"],\n",
    "                              \"Tweet ID\" : tweet[\"id\"],\n",
    "                              \"Sentiment\" : results[\"compound\"],\n",
    "                              \"pos\" : results[\"pos\"],\n",
    "                              \"neg\" : results[\"neg\"],\n",
    "                              \"neutral\" : results[\"neu\"],\n",
    "                              \"Tweet Ago\": counter})\n",
    "            #Make sure we set this counter, so that the next API call, picks up the next latest 20\n",
    "            oldest_tweet = tweet['id'] - 1\n",
    "            counter += 1 #incrementing the counter\n",
    "            polarityAvgCalculator.append(results[\"compound\"])\n",
    "    polorityAvg.append(np.mean(polarityAvgCalculator))\n",
    "    polarityAvgCalculator = []"
   ]
  },
  {
   "cell_type": "code",
   "execution_count": 7,
   "metadata": {},
   "outputs": [],
   "source": [
    "#Add the dictionary to the dataframe\n",
    "newsDf = pd.DataFrame(tweetList)\n",
    "\n",
    "#Saving the dataframe into CSV\n",
    "newsDf.to_csv(\"News_Sentiment_data.csv\", encoding='utf-8', index=False)"
   ]
  },
  {
   "cell_type": "markdown",
   "metadata": {},
   "source": [
    "#### Scatter Plots"
   ]
  },
  {
   "cell_type": "code",
   "execution_count": 20,
   "metadata": {},
   "outputs": [
    {
     "ename": "SyntaxError",
     "evalue": "invalid syntax (<ipython-input-20-c6f42c990568>, line 77)",
     "output_type": "error",
     "traceback": [
      "\u001b[1;36m  File \u001b[1;32m\"<ipython-input-20-c6f42c990568>\"\u001b[1;36m, line \u001b[1;32m77\u001b[0m\n\u001b[1;33m    plt.savefig(\"Sentiment-Analysis-on-Media-tweets.png\",bbox_extra_artists=(lgd,), bbox='tight'))\u001b[0m\n\u001b[1;37m                                                                                                 ^\u001b[0m\n\u001b[1;31mSyntaxError\u001b[0m\u001b[1;31m:\u001b[0m invalid syntax\n"
     ]
    }
   ],
   "source": [
    "fig, ax = plt.subplots()\n",
    "\n",
    "#BBC\n",
    "ax.scatter(newsDf[newsDf[\"News Channel\"] == \"@BBCWorld\"]['Tweet Ago'], \n",
    "           newsDf[newsDf[\"News Channel\"] == \"@BBCWorld\"]['Sentiment'],  \n",
    "           c='lightblue', \n",
    "           alpha=1, \n",
    "           s= 100,\n",
    "           linewidths =1,\n",
    "           edgecolor='black', \n",
    "           label='BBC')\n",
    "\n",
    "#CBS\n",
    "ax.scatter(newsDf[newsDf[\"News Channel\"] == \"@CBSNews\"]['Tweet Ago'], \n",
    "           newsDf[newsDf[\"News Channel\"] == \"@CBSNews\"]['Sentiment'],  \n",
    "           c='darkred', \n",
    "           alpha=1, \n",
    "           s= 100,\n",
    "           linewidths =1,\n",
    "           edgecolor='black', \n",
    "           label='CBS')\n",
    "\n",
    "#CNN\n",
    "ax.scatter(newsDf[newsDf[\"News Channel\"] == \"@CNN\"]['Tweet Ago'], \n",
    "           newsDf[newsDf[\"News Channel\"] == \"@CNN\"]['Sentiment'],  \n",
    "           c='darkgreen', \n",
    "           alpha=1, \n",
    "           s= 100,\n",
    "           linewidths =1,\n",
    "           edgecolor='black', \n",
    "           label='CNN')\n",
    "\n",
    "#CBS\n",
    "ax.scatter(newsDf[newsDf[\"News Channel\"] == \"@FoxNews\"]['Tweet Ago'], \n",
    "           newsDf[newsDf[\"News Channel\"] == \"@FoxNews\"]['Sentiment'],  \n",
    "           c='darkblue', \n",
    "           alpha=1, \n",
    "           s= 100,\n",
    "           linewidths =1,\n",
    "           edgecolor='black', \n",
    "           label='Fox')\n",
    "\n",
    "#NY Times\n",
    "ax.scatter(newsDf[newsDf[\"News Channel\"] == \"@nytimes\"]['Tweet Ago'], \n",
    "           newsDf[newsDf[\"News Channel\"] == \"@nytimes\"]['Sentiment'],  \n",
    "           c='yellow', \n",
    "           alpha=1, \n",
    "           s= 100,\n",
    "           linewidths =1,\n",
    "           edgecolor='black', \n",
    "           label='New York Times')\n",
    "#Setting the Title of the scatter plot\n",
    "plt.title(\"Sentiment Analysis of Media Tweets ( \" + str(today) + \" )\")\n",
    "\n",
    "#Setting the X and Y axis of scatter plot\n",
    "plt.xlabel(\"Tweets Ago\")\n",
    "plt.ylabel(\"Tweet Polarity\")\n",
    "\n",
    "#Legend\n",
    "#Moving the legends outside the plot\n",
    "ax.legend(title=\"Media Sources\",loc='center left', bbox_to_anchor=(1, 0.80))\n",
    "\n",
    "#Changing the X Axis Sort\n",
    "plt.xlim([105,-5])\n",
    "\n",
    "#Y Axis Interval\n",
    "plt.yticks(np.arange(-1,1.5,0.5))\n",
    "\n",
    "#Gridding the scatter plot\n",
    "plt.grid()\n",
    "\n",
    "#Setting Background Color of the Plot\n",
    "ax.patch.set_facecolor(\"lightcyan\")\n",
    "\n",
    "\n",
    "# Save Figure\n",
    "plt.savefig(\"Sentiment-Analysis-on-Media-tweets.png\",dpi=1000)\n",
    "\n",
    "#Show the plot\n",
    "plt.show()\n"
   ]
  },
  {
   "cell_type": "markdown",
   "metadata": {},
   "source": [
    "#### Box plot"
   ]
  },
  {
   "cell_type": "code",
   "execution_count": 19,
   "metadata": {},
   "outputs": [
    {
     "data": {
      "image/png": "[encoded data removed]",
      "text/plain": [
       "<Figure size 432x288 with 1 Axes>"
      ]
     },
     "metadata": {},
     "output_type": "display_data"
    }
   ],
   "source": [
    "ax = plt.subplot(111)\n",
    "\n",
    "#Bar plotting the twitter ID and Polarity Score\n",
    "barPlot = plt.bar(twitterIDList,polorityAvg,width=1.0,align='center')\n",
    "\n",
    "#Coloring the bar plot\n",
    "barPlot[0].set_color('lightblue')\n",
    "barPlot[1].set_color('darkred')\n",
    "barPlot[2].set_color('darkgreen')\n",
    "barPlot[3].set_color('darkblue')\n",
    "barPlot[4].set_color('yellow')\n",
    "\n",
    "#Setting the X scale\n",
    "plt.xlim([-0.5,4.5])\n",
    "\n",
    "#Annotating the Bar plot\n",
    "rects = ax.patches\n",
    "\n",
    "counterAxis = 0\n",
    "for rect in rects:\n",
    "    height = rect.get_height()\n",
    "    ax.text(rect.get_x() + rect.get_width()/2., height,\"{0:.3f}\".format(polorityAvg[counterAxis]), ha='center', va='bottom')\n",
    "    counterAxis = counterAxis + 1\n",
    "\n",
    "#Y Axis & Title\n",
    "ax.set_ylabel('Tweet Polarity')\n",
    "ax.set_title(\"Overall Media Sentiment based on Twitter ( \" + str(today) + \" )\")\n",
    "\n",
    "# Save Figure\n",
    "plt.savefig(\"Overall-Sentiment-based-on-Twitter.png\", dpi=1000)\n",
    "\n",
    "#Show the plot\n",
    "plt.show()\n",
    "\n"
   ]
  },
  {
   "cell_type": "code",
   "execution_count": null,
   "metadata": {},
   "outputs": [],
   "source": []
  },
  {
   "cell_type": "code",
   "execution_count": null,
   "metadata": {},
   "outputs": [],
   "source": []
  }
 ],
 "metadata": {
  "kernelspec": {
   "display_name": "Python [conda env:PythonData]",
   "language": "python",
   "name": "conda-env-PythonData-py"
  },
  "language_info": {
   "codemirror_mode": {
    "name": "ipython",
    "version": 3
   },
   "file_extension": ".py",
   "mimetype": "text/x-python",
   "name": "python",
   "nbconvert_exporter": "python",
   "pygments_lexer": "ipython3",
   "version": "3.6.5"
  },
  "varInspector": {
   "cols": {
    "lenName": 16,
    "lenType": 16,
    "lenVar": 40
   },
   "kernels_config": {
    "python": {
     "delete_cmd_postfix": "",
     "delete_cmd_prefix": "del ",
     "library": "var_list.py",
     "varRefreshCmd": "print(var_dic_list())"
    },
    "r": {
     "delete_cmd_postfix": ") ",
     "delete_cmd_prefix": "rm(",
     "library": "var_list.r",
     "varRefreshCmd": "cat(var_dic_list()) "
    }
   },
   "types_to_exclude": [
    "module",
    "function",
    "builtin_function_or_method",
    "instance",
    "_Feature"
   ],
   "window_display": false
  }
 },
 "nbformat": 4,
 "nbformat_minor": 2
}
